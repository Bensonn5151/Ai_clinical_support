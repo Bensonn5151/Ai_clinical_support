{
 "cells": [
  {
   "cell_type": "code",
   "execution_count": 0,
   "metadata": {
    "application/vnd.databricks.v1+cell": {
     "cellMetadata": {
      "byteLimit": 2048000,
      "rowLimit": 10000
     },
     "inputWidgets": {},
     "nuid": "699a8c56-bd29-42ca-999a-d781fec6635b",
     "showTitle": false,
     "tableResultSettingsMap": {
      "0": {
       "dataGridStateBlob": "{\"version\":1,\"tableState\":{\"columnPinning\":{\"left\":[\"#row_number#\"],\"right\":[]},\"columnSizing\":{\"SYSTEM\":148},\"columnVisibility\":{}},\"settings\":{\"columns\":{\"SYSTEM\":{\"format\":{\"preset\":\"string-preset-url\"}}}},\"syncTimestamp\":1760910593529}",
       "filterBlob": null,
       "queryPlanFiltersBlob": null,
       "tableResultIndex": 0
      }
     },
     "title": ""
    }
   },
   "outputs": [],
   "source": [
    "conditions_bronze_df = spark.read.format(\"delta\").load(\n",
    "    '/Volumes/workspace/synthea/synthea_datasets/conditions_delta'\n",
    ")\n",
    "display(conditions_bronze_df)"
   ]
  },
  {
   "cell_type": "code",
   "execution_count": 0,
   "metadata": {
    "application/vnd.databricks.v1+cell": {
     "cellMetadata": {
      "byteLimit": 2048000,
      "rowLimit": 10000
     },
     "inputWidgets": {},
     "nuid": "826c930f-0e1d-47e2-b3af-dc3a83c2bbca",
     "showTitle": false,
     "tableResultSettingsMap": {},
     "title": ""
    }
   },
   "outputs": [],
   "source": [
    "from pyspark.sql import functions as F\n",
    "conditions_silver_df = conditions_bronze_df.select(\n",
    "    \"start\",\n",
    "    F.when(F.col(\"stop\").isNull(), F.lit(\"9999-12-31\")).otherwise(F.col(\"stop\")).alias(\"stop\"),\n",
    "    \"patient\",\n",
    "    \"encounter\",\n",
    "    \"code\",\n",
    "    \"description\"\n",
    ")\n",
    "display(conditions_silver_df)\n"
   ]
  },
  {
   "cell_type": "code",
   "execution_count": 0,
   "metadata": {
    "application/vnd.databricks.v1+cell": {
     "cellMetadata": {
      "byteLimit": 2048000,
      "rowLimit": 10000
     },
     "inputWidgets": {},
     "nuid": "9f94bca7-ad45-4686-b550-e220df7b72e3",
     "showTitle": false,
     "tableResultSettingsMap": {},
     "title": ""
    }
   },
   "outputs": [],
   "source": [
    "conditions_silver_df.write.format('delta').mode('overwrite').save('/Volumes/workspace/synthea/synthea_datasets/conditions_silver_delta')"
   ]
  },
  {
   "cell_type": "code",
   "execution_count": 0,
   "metadata": {
    "application/vnd.databricks.v1+cell": {
     "cellMetadata": {},
     "inputWidgets": {},
     "nuid": "88963297-bd62-4ad0-a28c-352ab274a212",
     "showTitle": false,
     "tableResultSettingsMap": {},
     "title": ""
    }
   },
   "outputs": [],
   "source": []
  }
 ],
 "metadata": {
  "application/vnd.databricks.v1+notebook": {
   "computePreferences": {
    "hardware": {
     "accelerator": null,
     "gpuPoolId": null,
     "memory": null
    }
   },
   "dashboards": [],
   "environmentMetadata": {
    "base_environment": "",
    "environment_version": "4"
   },
   "inputWidgetPreferences": null,
   "language": "python",
   "notebookMetadata": {
    "pythonIndentUnit": 4
   },
   "notebookName": "transform_conditions_silver",
   "widgets": {}
  },
  "language_info": {
   "name": "python"
  }
 },
 "nbformat": 4,
 "nbformat_minor": 0
}
