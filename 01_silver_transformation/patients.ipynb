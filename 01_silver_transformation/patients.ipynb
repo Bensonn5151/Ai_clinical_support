{
 "cells": [
  {
   "cell_type": "code",
   "execution_count": 0,
   "metadata": {
    "application/vnd.databricks.v1+cell": {
     "cellMetadata": {
      "byteLimit": 2048000,
      "rowLimit": 10000
     },
     "inputWidgets": {},
     "nuid": "3688ead4-c927-4a8f-b2e3-66ea7ae232d9",
     "showTitle": false,
     "tableResultSettingsMap": {},
     "title": ""
    }
   },
   "outputs": [],
   "source": [
    "patients_df=spark.read.csv('/Volumes/workspace/synthea/synthea_datasets/patients.csv',header=True,inferSchema=True)\n",
    "\n",
    "\n",
    "patients_df.write.format('delta').mode('overwrite').save('/Volumes/workspace/synthea/synthea_datasets/patients_delta')"
   ]
  },
  {
   "cell_type": "code",
   "execution_count": 0,
   "metadata": {
    "application/vnd.databricks.v1+cell": {
     "cellMetadata": {
      "byteLimit": 2048000,
      "rowLimit": 10000
     },
     "inputWidgets": {},
     "nuid": "dd4dba61-8302-4392-8617-da6ac19a6eda",
     "showTitle": false,
     "tableResultSettingsMap": {},
     "title": ""
    }
   },
   "outputs": [],
   "source": [
    "# Read from Delta instead\n",
    "patients_df = spark.read.format(\"delta\").load(\n",
    "    '/Volumes/workspace/synthea/synthea_datasets/patients_delta'\n",
    ")\n",
    "\n",
    "# Display sample\n",
    "display(patients_df)\n",
    "#patients_df.printSchema()"
   ]
  },
  {
   "cell_type": "code",
   "execution_count": 0,
   "metadata": {
    "application/vnd.databricks.v1+cell": {
     "cellMetadata": {
      "byteLimit": 2048000,
      "rowLimit": 10000
     },
     "inputWidgets": {},
     "nuid": "b6119dd8-b036-40c6-a78e-a4cfd6c0dcec",
     "showTitle": false,
     "tableResultSettingsMap": {
      "0": {
       "dataGridStateBlob": "{\"version\":1,\"tableState\":{\"columnPinning\":{\"left\":[\"#row_number#\"],\"right\":[]},\"columnSizing\":{},\"columnVisibility\":{}},\"settings\":{\"columns\":{}},\"syncTimestamp\":1760389625736}",
       "filterBlob": null,
       "queryPlanFiltersBlob": null,
       "tableResultIndex": 0
      }
     },
     "title": ""
    }
   },
   "outputs": [],
   "source": [
    "from pyspark.sql.functions import col, when\n",
    "deceased_df=patients_df.withColumn(\"status\",\n",
    "                          when(col(\"deathdate\").isNull(),\n",
    "                               \"alive\").otherwise(\"deceased\"))\n",
    "display(deceased_df)"
   ]
  },
  {
   "cell_type": "code",
   "execution_count": 0,
   "metadata": {
    "application/vnd.databricks.v1+cell": {
     "cellMetadata": {
      "byteLimit": 2048000,
      "rowLimit": 10000
     },
     "inputWidgets": {},
     "nuid": "2a8e5302-8cdc-4be5-b7e5-5d2dcfe53326",
     "showTitle": false,
     "tableResultSettingsMap": {},
     "title": ""
    }
   },
   "outputs": [],
   "source": [
    "marital_df=deceased_df.withColumn(\"marital_status\",\n",
    "                          when(col(\"marital\").isNull(),\n",
    "                               \"unknown\").otherwise(col(\"marital\")))\n",
    "display(marital_df)\n",
    "#marital_df.write.format('delta').mode('overwrite').save('/Volumes/workspace/synthea/synthea_datasets/marital_delta')"
   ]
  },
  {
   "cell_type": "code",
   "execution_count": 0,
   "metadata": {
    "application/vnd.databricks.v1+cell": {
     "cellMetadata": {},
     "inputWidgets": {},
     "nuid": "00e7974f-31d1-46ad-8879-8424a6aaa535",
     "showTitle": false,
     "tableResultSettingsMap": {},
     "title": ""
    }
   },
   "outputs": [],
   "source": []
  }
 ],
 "metadata": {
  "application/vnd.databricks.v1+notebook": {
   "computePreferences": {
    "hardware": {
     "accelerator": null,
     "gpuPoolId": null,
     "memory": null
    }
   },
   "dashboards": [],
   "environmentMetadata": {
    "base_environment": "",
    "environment_version": "3"
   },
   "inputWidgetPreferences": null,
   "language": "python",
   "notebookMetadata": {
    "pythonIndentUnit": 4
   },
   "notebookName": "patients",
   "widgets": {}
  },
  "language_info": {
   "name": "python"
  }
 },
 "nbformat": 4,
 "nbformat_minor": 0
}
