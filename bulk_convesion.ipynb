{
 "cells": [
  {
   "cell_type": "code",
   "execution_count": 0,
   "metadata": {
    "application/vnd.databricks.v1+cell": {
     "cellMetadata": {
      "byteLimit": 2048000,
      "rowLimit": 10000
     },
     "inputWidgets": {},
     "nuid": "8061f2e4-7a9c-4c22-a3cc-8ab09bfe9369",
     "showTitle": false,
     "tableResultSettingsMap": {},
     "title": ""
    }
   },
   "outputs": [],
   "source": [
    "base_path='/Volumes/workspace/synthea/synthea_datasets'\n",
    "files=dbutils.fs.ls(base_path) #list files in volume\n",
    "#files"
   ]
  },
  {
   "cell_type": "code",
   "execution_count": 0,
   "metadata": {
    "application/vnd.databricks.v1+cell": {
     "cellMetadata": {
      "byteLimit": 2048000,
      "rowLimit": 10000
     },
     "inputWidgets": {},
     "nuid": "289f37de-7af3-4a84-be56-69c1168b76db",
     "showTitle": false,
     "tableResultSettingsMap": {},
     "title": ""
    }
   },
   "outputs": [],
   "source": [
    "for file in files:\n",
    "    file_path = file.path\n",
    "\n",
    "    # Skip folders and non-data files\n",
    "    if file.isDir():\n",
    "        continue\n",
    "\n",
    "    # CSV to Delta\n",
    "    if file_path.lower().endswith(\".csv\"):\n",
    "        print(f\"Converting CSV: {file_path}\")\n",
    "        df = spark.read.csv(file_path, header=True, inferSchema=True)\n",
    "        delta_path = file_path.replace(\".csv\", \"_delta\")\n",
    "        df.write.format(\"delta\").mode(\"overwrite\").save(delta_path)\n",
    "\n",
    "    # JSON to Delta\n",
    "    elif file_path.lower().endswith(\".json\"):\n",
    "        print(f\"Converting JSON: {file_path}\")\n",
    "        df = spark.read.json(file_path)\n",
    "        delta_path = file_path.replace(\".json\", \"_delta\")\n",
    "        df.write.format(\"delta\").mode(\"overwrite\").save(delta_path)"
   ]
  },
  {
   "cell_type": "code",
   "execution_count": 0,
   "metadata": {
    "application/vnd.databricks.v1+cell": {
     "cellMetadata": {
      "byteLimit": 2048000,
      "rowLimit": 10000
     },
     "inputWidgets": {},
     "nuid": "0d03c56e-6d22-4f1d-9ae3-6027940f0312",
     "showTitle": false,
     "tableResultSettingsMap": {},
     "title": ""
    }
   },
   "outputs": [],
   "source": [
    "supplies_df = spark.read.format(\"delta\").load(\n",
    "    '/Volumes/workspace/synthea/synthea_datasets/supplies_delta'\n",
    ")\n",
    "\n",
    "# Display sample\n",
    "display(supplies_df.limit(5))"
   ]
  },
  {
   "cell_type": "code",
   "execution_count": 0,
   "metadata": {
    "application/vnd.databricks.v1+cell": {
     "cellMetadata": {
      "byteLimit": 2048000,
      "implicitDf": true,
      "rowLimit": 10000
     },
     "inputWidgets": {},
     "nuid": "d460b6bf-a6fd-48eb-b35e-84feb7bf2748",
     "showTitle": false,
     "tableResultSettingsMap": {},
     "title": ""
    }
   },
   "outputs": [],
   "source": [
    "%sql\n",
    "SELECT * FROM delta.`/Volumes/workspace/synthea/synthea_datasets/patients_delta`\n",
    "LIMIT 5\n"
   ]
  },
  {
   "cell_type": "code",
   "execution_count": 0,
   "metadata": {
    "application/vnd.databricks.v1+cell": {
     "cellMetadata": {
      "byteLimit": 2048000,
      "rowLimit": 10000
     },
     "inputWidgets": {},
     "nuid": "9677ef19-68c2-4abb-aa1a-fdd971edcc4a",
     "showTitle": false,
     "tableResultSettingsMap": {},
     "title": ""
    }
   },
   "outputs": [],
   "source": [
    "base_path = \"/Volumes/workspace/synthea/synthea_datasets\"\n",
    "db_name = \"synthea\"\n",
    "\n",
    "\n",
    "spark.sql(f\"CREATE DATABASE IF NOT EXISTS {db_name}\")\n",
    "for item in dbutils.fs.ls(base_path):\n",
    "    if item.isDir() and item.name.lower().endswith(\"_delta/\"):\n",
    "        view_name = item.name[:-7]  # remove \"_delta\"\n",
    "        delta_path = item.path.rstrip(\"/\")\n",
    "        print(f\"Creating view: {db_name}.{view_name}\")\n",
    "        spark.sql(f\"CREATE OR REPLACE VIEW {db_name}.{view_name} AS SELECT * FROM delta.`{delta_path}`\")\n",
    "\n"
   ]
  },
  {
   "cell_type": "code",
   "execution_count": 0,
   "metadata": {
    "application/vnd.databricks.v1+cell": {
     "cellMetadata": {
      "byteLimit": 2048000,
      "implicitDf": true,
      "rowLimit": 10000
     },
     "inputWidgets": {},
     "nuid": "2682afa9-4cd3-4855-9730-9f939c2c7e89",
     "showTitle": false,
     "tableResultSettingsMap": {
      "0": {
       "dataGridStateBlob": "{\"version\":1,\"tableState\":{\"columnPinning\":{\"left\":[\"#row_number#\"],\"right\":[]},\"columnSizing\":{},\"columnVisibility\":{}},\"settings\":{\"columns\":{}},\"syncTimestamp\":1754831314200}",
       "filterBlob": null,
       "queryPlanFiltersBlob": null,
       "tableResultIndex": 0
      }
     },
     "title": ""
    }
   },
   "outputs": [],
   "source": [
    "%sql\n",
    "SELECT id,city FROM synthea.patients"
   ]
  },
  {
   "cell_type": "code",
   "execution_count": 0,
   "metadata": {
    "application/vnd.databricks.v1+cell": {
     "cellMetadata": {},
     "inputWidgets": {},
     "nuid": "26f11c63-9c79-4f4c-a0e7-6873e72bad4a",
     "showTitle": false,
     "tableResultSettingsMap": {},
     "title": ""
    }
   },
   "outputs": [],
   "source": []
  }
 ],
 "metadata": {
  "application/vnd.databricks.v1+notebook": {
   "computePreferences": null,
   "dashboards": [],
   "environmentMetadata": {
    "base_environment": "",
    "environment_version": "2"
   },
   "inputWidgetPreferences": null,
   "language": "python",
   "notebookMetadata": {
    "mostRecentlyExecutedCommandWithImplicitDF": {
     "commandId": 5836194059056441,
     "dataframes": [
      "_sqldf"
     ]
    },
    "pythonIndentUnit": 4
   },
   "notebookName": "bulk_convesion",
   "widgets": {}
  },
  "language_info": {
   "name": "python"
  }
 },
 "nbformat": 4,
 "nbformat_minor": 0
}
