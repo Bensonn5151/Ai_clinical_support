{
 "cells": [
  {
   "cell_type": "code",
   "execution_count": 0,
   "metadata": {
    "application/vnd.databricks.v1+cell": {
     "cellMetadata": {
      "byteLimit": 2048000,
      "rowLimit": 10000
     },
     "inputWidgets": {},
     "nuid": "0d37a6ce-8bd7-4da4-835d-e3ae6338da61",
     "showTitle": false,
     "tableResultSettingsMap": {},
     "title": ""
    }
   },
   "outputs": [],
   "source": [
    "from pyspark.sql import SparkSession\n",
    "from pyspark.sql.functions import col, min, datediff, count"
   ]
  },
  {
   "cell_type": "code",
   "execution_count": 0,
   "metadata": {
    "application/vnd.databricks.v1+cell": {
     "cellMetadata": {
      "byteLimit": 2048000,
      "rowLimit": 10000
     },
     "inputWidgets": {},
     "nuid": "052478a7-91d6-4d70-90eb-f7ad19fa3f02",
     "showTitle": false,
     "tableResultSettingsMap": {},
     "title": ""
    }
   },
   "outputs": [],
   "source": [
    "patients = spark.read.format(\"delta\").load(\"/Volumes/workspace/synthea/synthea_datasets/patients_silver_delta\")\n",
    "encounters = spark.read.format(\"delta\").load(\"/Volumes/workspace/synthea/synthea_datasets/encounters_silver_delta\")\n",
    "medications = spark.read.format(\"delta\").load(\"/Volumes/workspace/synthea/synthea_datasets/medications_silver_delta\")\n",
    "conditions = spark.read.format(\"delta\").load(\"/Volumes/workspace/synthea/synthea_datasets/conditions_silver_delta\")"
   ]
  },
  {
   "cell_type": "code",
   "execution_count": 0,
   "metadata": {
    "application/vnd.databricks.v1+cell": {
     "cellMetadata": {
      "byteLimit": 2048000,
      "rowLimit": 10000
     },
     "inputWidgets": {},
     "nuid": "f11ea556-0cc6-4e03-8f05-b5892d6b7e5f",
     "showTitle": false,
     "tableResultSettingsMap": {},
     "title": ""
    }
   },
   "outputs": [],
   "source": [
    "from pyspark.sql.functions import col\n",
    "\n",
    "# Rename overlapping columns using prefixes\n",
    "patients_prefixed = patients.select(\n",
    "    [col(c).alias(f\"patient_{c}\") if c != \"patient_id\" else col(c) for c in patients.columns]\n",
    ")\n",
    "\n",
    "encounters_prefixed = encounters.select(\n",
    "    [col(c).alias(f\"encounter_{c}\") if c != \"patient_id\" else col(c) for c in encounters.columns]\n",
    ")\n",
    "\n",
    "conditions_prefixed = conditions.select(\n",
    "    [col(c).alias(f\"condition_{c}\") if c != \"patient_id\" else col(c) for c in conditions.columns]\n",
    ")\n",
    "\n",
    "medications_prefixed = medications.select(\n",
    "    [col(c).alias(f\"medication_{c}\") if c != \"patient_id\" else col(c) for c in medications.columns]\n",
    ")"
   ]
  },
  {
   "cell_type": "code",
   "execution_count": 0,
   "metadata": {
    "application/vnd.databricks.v1+cell": {
     "cellMetadata": {
      "byteLimit": 2048000,
      "rowLimit": 10000
     },
     "inputWidgets": {},
     "nuid": "c7df3eea-596c-490b-a8d5-e1d9ca401356",
     "showTitle": false,
     "tableResultSettingsMap": {},
     "title": ""
    }
   },
   "outputs": [],
   "source": [
    "display(patients_prefixed)"
   ]
  },
  {
   "cell_type": "code",
   "execution_count": 0,
   "metadata": {
    "application/vnd.databricks.v1+cell": {
     "cellMetadata": {
      "byteLimit": 2048000,
      "rowLimit": 10000
     },
     "inputWidgets": {},
     "nuid": "b5ebe04a-a3fc-4d6d-b6e7-dc362d857fbb",
     "showTitle": false,
     "tableResultSettingsMap": {
      "0": {
       "dataGridStateBlob": "{\"version\":1,\"tableState\":{\"columnPinning\":{\"left\":[\"#row_number#\"],\"right\":[]},\"columnSizing\":{},\"columnVisibility\":{}},\"settings\":{\"columns\":{}},\"syncTimestamp\":1760912186521}",
       "filterBlob": null,
       "queryPlanFiltersBlob": null,
       "tableResultIndex": 0
      }
     },
     "title": ""
    }
   },
   "outputs": [],
   "source": [
    "display(encounters_prefixed)"
   ]
  },
  {
   "cell_type": "code",
   "execution_count": 0,
   "metadata": {
    "application/vnd.databricks.v1+cell": {
     "cellMetadata": {
      "byteLimit": 2048000,
      "rowLimit": 10000
     },
     "inputWidgets": {},
     "nuid": "55a70cd5-d764-4913-9ed6-f2f62aa64fa2",
     "showTitle": false,
     "tableResultSettingsMap": {},
     "title": ""
    }
   },
   "outputs": [],
   "source": [
    "journey = (\n",
    "    encounters_prefixed.join(patients_prefixed, patients_prefixed.patient_id == encounters_prefixed.encounter_patient, \"inner\")\n",
    "              .join(conditions_prefixed, conditions_prefixed.condition_patient == patients_prefixed.patient_id, \"left\")\n",
    "              .join(medications_prefixed, medications_prefixed.medication_patient == patients_prefixed.patient_id, \"left\")\n",
    ")\n",
    "display(journey)"
   ]
  },
  {
   "cell_type": "code",
   "execution_count": 0,
   "metadata": {
    "application/vnd.databricks.v1+cell": {
     "cellMetadata": {
      "byteLimit": 2048000,
      "rowLimit": 10000
     },
     "inputWidgets": {},
     "nuid": "b4d4c527-5ebf-4615-96c5-3c3a3cf0b9da",
     "showTitle": false,
     "tableResultSettingsMap": {},
     "title": ""
    }
   },
   "outputs": [],
   "source": [
    "from pyspark.sql.functions import col, min, count, datediff\n",
    "\n",
    "journey_features = (\n",
    "    journey.groupBy(\"patient_id\")\n",
    "    .agg(\n",
    "        min(\"condition_start\").alias(\"first_diagnosis_date\"),\n",
    "        min(\"medication_start\").alias(\"first_medication_date\"),\n",
    "        count(\"encounter_id\").alias(\"total_encounters\")\n",
    "    )\n",
    "    .withColumn(\n",
    "        \"time_to_medication_start\",\n",
    "        datediff(col(\"first_medication_date\"), col(\"first_diagnosis_date\"))\n",
    "    )\n",
    ")\n",
    "\n",
    "display(journey_features)"
   ]
  },
  {
   "cell_type": "code",
   "execution_count": 0,
   "metadata": {
    "application/vnd.databricks.v1+cell": {
     "cellMetadata": {},
     "inputWidgets": {},
     "nuid": "e452a4ff-9067-49fb-a369-375c100ceedc",
     "showTitle": false,
     "tableResultSettingsMap": {},
     "title": ""
    }
   },
   "outputs": [],
   "source": []
  }
 ],
 "metadata": {
  "application/vnd.databricks.v1+notebook": {
   "computePreferences": {
    "hardware": {
     "accelerator": null,
     "gpuPoolId": null,
     "memory": null
    }
   },
   "dashboards": [],
   "environmentMetadata": {
    "base_environment": "",
    "environment_version": "4"
   },
   "inputWidgetPreferences": null,
   "language": "python",
   "notebookMetadata": {
    "pythonIndentUnit": 4
   },
   "notebookName": "patient_journey_analytics",
   "widgets": {}
  },
  "language_info": {
   "name": "python"
  }
 },
 "nbformat": 4,
 "nbformat_minor": 0
}
