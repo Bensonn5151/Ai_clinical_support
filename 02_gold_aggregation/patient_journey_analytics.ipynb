{
 "cells": [
  {
   "cell_type": "code",
   "execution_count": 0,
   "metadata": {
    "application/vnd.databricks.v1+cell": {
     "cellMetadata": {
      "byteLimit": 2048000,
      "rowLimit": 10000
     },
     "inputWidgets": {},
     "nuid": "0d37a6ce-8bd7-4da4-835d-e3ae6338da61",
     "showTitle": false,
     "tableResultSettingsMap": {},
     "title": ""
    }
   },
   "outputs": [],
   "source": [
    "from pyspark.sql import SparkSession\n",
    "from pyspark.sql.functions import col, min, datediff, count"
   ]
  },
  {
   "cell_type": "code",
   "execution_count": 0,
   "metadata": {
    "application/vnd.databricks.v1+cell": {
     "cellMetadata": {
      "byteLimit": 2048000,
      "rowLimit": 10000
     },
     "inputWidgets": {},
     "nuid": "052478a7-91d6-4d70-90eb-f7ad19fa3f02",
     "showTitle": false,
     "tableResultSettingsMap": {},
     "title": ""
    }
   },
   "outputs": [],
   "source": [
    "patients = spark.read.format(\"delta\").load(\"/Volumes/workspace/synthea/synthea_datasets/patients_silver_delta\")\n",
    "encounters = spark.read.format(\"delta\").load(\"/Volumes/workspace/synthea/synthea_datasets/encounters_silver_delta\")\n",
    "medications = spark.read.format(\"delta\").load(\"/Volumes/workspace/synthea/synthea_datasets/medications_silver_delta\")\n",
    "conditions = spark.read.format(\"delta\").load(\"/Volumes/workspace/synthea/synthea_datasets/conditions_silver_delta\")"
   ]
  },
  {
   "cell_type": "code",
   "execution_count": 0,
   "metadata": {
    "application/vnd.databricks.v1+cell": {
     "cellMetadata": {
      "byteLimit": 2048000,
      "rowLimit": 10000
     },
     "inputWidgets": {},
     "nuid": "55a70cd5-d764-4913-9ed6-f2f62aa64fa2",
     "showTitle": false,
     "tableResultSettingsMap": {},
     "title": ""
    }
   },
   "outputs": [],
   "source": [
    "journey = (\n",
    "    encounters.join(patients, \"id\", \"inner\")\n",
    "              .join(conditions, \"patient\", \"left\")\n",
    "              .join(medications, \"patient\", \"left\")\n",
    ")\n",
    "display(journey)"
   ]
  },
  {
   "cell_type": "code",
   "execution_count": 0,
   "metadata": {
    "application/vnd.databricks.v1+cell": {
     "cellMetadata": {
      "byteLimit": 2048000,
      "rowLimit": 10000
     },
     "inputWidgets": {},
     "nuid": "d5b545ec-b3f2-4188-8304-eafde4cdda27",
     "showTitle": false,
     "tableResultSettingsMap": {
      "0": {
       "dataGridStateBlob": "{\"version\":1,\"tableState\":{\"columnPinning\":{\"left\":[\"#row_number#\"],\"right\":[]},\"columnSizing\":{},\"columnVisibility\":{}},\"settings\":{\"columns\":{}},\"syncTimestamp\":1760911337422}",
       "filterBlob": null,
       "queryPlanFiltersBlob": null,
       "tableResultIndex": 0
      }
     },
     "title": ""
    }
   },
   "outputs": [],
   "source": [
    "journey = (\n",
    "    encounters.join(patients, patients.id == encounters.patient, \"inner\")\n",
    "              .join(conditions, conditions.patient == patients.id, \"left\")\n",
    "              .join(medications, medications.patient == patients.id, \"left\")\n",
    ")\n",
    "display(journey)"
   ]
  },
  {
   "cell_type": "code",
   "execution_count": 0,
   "metadata": {
    "application/vnd.databricks.v1+cell": {
     "cellMetadata": {
      "byteLimit": 2048000,
      "rowLimit": 10000
     },
     "inputWidgets": {},
     "nuid": "b4d4c527-5ebf-4615-96c5-3c3a3cf0b9da",
     "showTitle": false,
     "tableResultSettingsMap": {},
     "title": ""
    }
   },
   "outputs": [],
   "source": [
    "journey_features = (\n",
    "    journey.groupBy(\"patient\")\n",
    "    .agg(\n",
    "        min(\"date\").alias(\"first_diagnosis_date\"),\n",
    "        min(\"start_date\").alias(\"first_medication_date\"),\n",
    "        count(\"encounter\").alias(\"total_encounters\")\n",
    "    )\n",
    "    .withColumn(\"time_to_medication_start\",\n",
    "                datediff(col(\"first_medication_date\"), col(\"first_diagnosis_date\")))\n",
    ")\n",
    "display(journey_features)\n",
    "\n"
   ]
  },
  {
   "cell_type": "code",
   "execution_count": 0,
   "metadata": {
    "application/vnd.databricks.v1+cell": {
     "cellMetadata": {},
     "inputWidgets": {},
     "nuid": "e452a4ff-9067-49fb-a369-375c100ceedc",
     "showTitle": false,
     "tableResultSettingsMap": {},
     "title": ""
    }
   },
   "outputs": [],
   "source": []
  }
 ],
 "metadata": {
  "application/vnd.databricks.v1+notebook": {
   "computePreferences": {
    "hardware": {
     "accelerator": null,
     "gpuPoolId": null,
     "memory": null
    }
   },
   "dashboards": [],
   "environmentMetadata": {
    "base_environment": "",
    "environment_version": "4"
   },
   "inputWidgetPreferences": null,
   "language": "python",
   "notebookMetadata": {
    "pythonIndentUnit": 4
   },
   "notebookName": "patient_journey_analytics",
   "widgets": {}
  },
  "language_info": {
   "name": "python"
  }
 },
 "nbformat": 4,
 "nbformat_minor": 0
}
