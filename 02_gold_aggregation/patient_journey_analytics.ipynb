{
 "cells": [
  {
   "cell_type": "code",
   "execution_count": 0,
   "metadata": {
    "application/vnd.databricks.v1+cell": {
     "cellMetadata": {
      "byteLimit": 2048000,
      "rowLimit": 10000
     },
     "inputWidgets": {},
     "nuid": "0d37a6ce-8bd7-4da4-835d-e3ae6338da61",
     "showTitle": false,
     "tableResultSettingsMap": {},
     "title": ""
    }
   },
   "outputs": [],
   "source": [
    "from pyspark.sql import SparkSession\n",
    "from pyspark.sql.functions import col, min, datediff, count"
   ]
  },
  {
   "cell_type": "code",
   "execution_count": 0,
   "metadata": {
    "application/vnd.databricks.v1+cell": {
     "cellMetadata": {
      "byteLimit": 2048000,
      "rowLimit": 10000
     },
     "inputWidgets": {},
     "nuid": "052478a7-91d6-4d70-90eb-f7ad19fa3f02",
     "showTitle": false,
     "tableResultSettingsMap": {},
     "title": ""
    }
   },
   "outputs": [],
   "source": [
    "patients = spark.read.format(\"delta\").load(\"/Volumes/workspace/synthea/synthea_datasets/patients_silver_delta\")\n",
    "encounters = spark.read.format(\"delta\").load(\"/Volumes/workspace/synthea/synthea_datasets/encounters_silver_delta\")\n",
    "medications = spark.read.format(\"delta\").load(\"/Volumes/workspace/synthea/synthea_datasets/medications_silver_delta\")\n",
    "conditions = spark.read.format(\"delta\").load(\"/Volumes/workspace/synthea/synthea_datasets/conditions_silver_delta\")"
   ]
  },
  {
   "cell_type": "code",
   "execution_count": 0,
   "metadata": {
    "application/vnd.databricks.v1+cell": {
     "cellMetadata": {
      "byteLimit": 2048000,
      "rowLimit": 10000
     },
     "inputWidgets": {},
     "nuid": "f11ea556-0cc6-4e03-8f05-b5892d6b7e5f",
     "showTitle": false,
     "tableResultSettingsMap": {},
     "title": ""
    }
   },
   "outputs": [],
   "source": [
    "from pyspark.sql.functions import col\n",
    "\n",
    "# Rename overlapping columns using prefixes\n",
    "patients_prefixed = patients.select(\n",
    "    [col(c).alias(f\"patient_{c}\") if c != \"patient_id\" else col(c) for c in patients.columns]\n",
    ")\n",
    "\n",
    "encounters_prefixed = encounters.select(\n",
    "    [col(c).alias(f\"encounter_{c}\") if c != \"patient_id\" else col(c) for c in encounters.columns]\n",
    ")\n",
    "\n",
    "conditions_prefixed = conditions.select(\n",
    "    [col(c).alias(f\"condition_{c}\") if c != \"patient_id\" else col(c) for c in conditions.columns]\n",
    ")\n",
    "\n",
    "medications_prefixed = medications.select(\n",
    "    [col(c).alias(f\"medication_{c}\") if c != \"patient_id\" else col(c) for c in medications.columns]\n",
    ")"
   ]
  },
  {
   "cell_type": "code",
   "execution_count": 0,
   "metadata": {
    "application/vnd.databricks.v1+cell": {
     "cellMetadata": {
      "byteLimit": 2048000,
      "rowLimit": 10000
     },
     "inputWidgets": {},
     "nuid": "c7df3eea-596c-490b-a8d5-e1d9ca401356",
     "showTitle": false,
     "tableResultSettingsMap": {},
     "title": ""
    }
   },
   "outputs": [],
   "source": [
    "display(patients_prefixed)"
   ]
  },
  {
   "cell_type": "code",
   "execution_count": 0,
   "metadata": {
    "application/vnd.databricks.v1+cell": {
     "cellMetadata": {
      "byteLimit": 2048000,
      "rowLimit": 10000
     },
     "inputWidgets": {},
     "nuid": "b5ebe04a-a3fc-4d6d-b6e7-dc362d857fbb",
     "showTitle": false,
     "tableResultSettingsMap": {
      "0": {
       "dataGridStateBlob": "{\"version\":1,\"tableState\":{\"columnPinning\":{\"left\":[\"#row_number#\"],\"right\":[]},\"columnSizing\":{},\"columnVisibility\":{}},\"settings\":{\"columns\":{}},\"syncTimestamp\":1760912186521}",
       "filterBlob": null,
       "queryPlanFiltersBlob": null,
       "tableResultIndex": 0
      }
     },
     "title": ""
    }
   },
   "outputs": [],
   "source": [
    "display(encounters_prefixed)"
   ]
  },
  {
   "cell_type": "code",
   "execution_count": 0,
   "metadata": {
    "application/vnd.databricks.v1+cell": {
     "cellMetadata": {
      "byteLimit": 2048000,
      "rowLimit": 10000
     },
     "inputWidgets": {},
     "nuid": "55a70cd5-d764-4913-9ed6-f2f62aa64fa2",
     "showTitle": false,
     "tableResultSettingsMap": {},
     "title": ""
    }
   },
   "outputs": [],
   "source": [
    "journey = (\n",
    "    encounters_prefixed.join(patients_prefixed, patients_prefixed.patient_id == encounters_prefixed.encounter_patient, \"inner\")\n",
    "              .join(conditions_prefixed, conditions_prefixed.condition_patient == patients_prefixed.patient_id, \"left\")\n",
    "              .join(medications_prefixed, medications_prefixed.medication_patient == patients_prefixed.patient_id, \"left\")\n",
    ")\n",
    "display(journey)"
   ]
  },
  {
   "cell_type": "code",
   "execution_count": 0,
   "metadata": {
    "application/vnd.databricks.v1+cell": {
     "cellMetadata": {
      "byteLimit": 2048000,
      "rowLimit": 10000
     },
     "inputWidgets": {},
     "nuid": "b4d4c527-5ebf-4615-96c5-3c3a3cf0b9da",
     "showTitle": false,
     "tableResultSettingsMap": {},
     "title": ""
    }
   },
   "outputs": [
    {
     "output_type": "display_data",
     "data": {
      "text/plain": [
       "Databricks visualization. Run in Databricks to view."
      ]
     },
     "metadata": {
      "application/vnd.databricks.v1.subcommand+json": {
       "baseErrorDetails": null,
       "bindings": {},
       "collapsed": false,
       "command": "%python\n__backend_agg_display_orig = display\n__backend_agg_dfs = []\ndef __backend_agg_display_new(df):\n    __backend_agg_df_modules = [\"pandas.core.frame\", \"databricks.koalas.frame\", \"pyspark.sql.dataframe\", \"pyspark.pandas.frame\", \"pyspark.sql.connect.dataframe\"]\n    if (type(df).__module__ in __backend_agg_df_modules and type(df).__name__ == 'DataFrame') or isinstance(df, list):\n        __backend_agg_dfs.append(df)\n\ndisplay = __backend_agg_display_new\n\ndef __backend_agg_user_code_fn():\n    import base64\n    exec(base64.standard_b64decode(\"ZnJvbSBweXNwYXJrLnNxbC5mdW5jdGlvbnMgaW1wb3J0IGNvbCwgbWluLCBjb3VudCwgZGF0ZWRpZmYKCmpvdXJuZXlfZmVhdHVyZXMgPSAoCiAgICBqb3VybmV5Lmdyb3VwQnkoInBhdGllbnRfaWQiKQogICAgLmFnZygKICAgICAgICBtaW4oImNvbmRpdGlvbl9zdGFydCIpLmFsaWFzKCJmaXJzdF9kaWFnbm9zaXNfZGF0ZSIpLAogICAgICAgIG1pbigibWVkaWNhdGlvbl9zdGFydCIpLmFsaWFzKCJmaXJzdF9tZWRpY2F0aW9uX2RhdGUiKSwKICAgICAgICBjb3VudCgiZW5jb3VudGVyX2lkIikuYWxpYXMoInRvdGFsX2VuY291bnRlcnMiKQogICAgKQogICAgLndpdGhDb2x1bW4oCiAgICAgICAgInRpbWVfdG9fbWVkaWNhdGlvbl9zdGFydCIsCiAgICAgICAgZGF0ZWRpZmYoY29sKCJmaXJzdF9tZWRpY2F0aW9uX2RhdGUiKSwgY29sKCJmaXJzdF9kaWFnbm9zaXNfZGF0ZSIpKQogICAgKQopCgpkaXNwbGF5KGpvdXJuZXlfZmVhdHVyZXMp\").decode())\n\ntry:\n    # run user code\n    __backend_agg_user_code_fn()\n\n    #reset display function\n    display = __backend_agg_display_orig\n\n    if len(__backend_agg_dfs) > 0:\n        # create a temp view\n        if type(__backend_agg_dfs[0]).__module__ == \"databricks.koalas.frame\":\n            # koalas dataframe\n            __backend_agg_dfs[0].to_spark().createOrReplaceTempView(\"DatabricksView1f12c6f\")\n        elif type(__backend_agg_dfs[0]).__module__ == \"pandas.core.frame\" or isinstance(__backend_agg_dfs[0], list):\n            # pandas dataframe\n            spark.createDataFrame(__backend_agg_dfs[0]).createOrReplaceTempView(\"DatabricksView1f12c6f\")\n        else:\n            __backend_agg_dfs[0].createOrReplaceTempView(\"DatabricksView1f12c6f\")\n        #run backend agg\n        display(spark.sql(\"\"\"WITH q AS (select * from DatabricksView1f12c6f) ,min_max AS (SELECT `time_to_medication_start`,(SELECT MAX(`time_to_medication_start`) FROM q) `target_column_max`,(SELECT MIN(`time_to_medication_start`) FROM q) `target_column_min` FROM q) ,histogram_meta AS (SELECT `time_to_medication_start`,`target_column_min` `min_value`,IF(`target_column_max` = `target_column_min`,`target_column_max` + 1,`target_column_max`) `max_value`,(`target_column_max` - `target_column_min`) / 10 `step` FROM min_max) SELECT IF(ISNULL(`time_to_medication_start`),NULL,LEAST(WIDTH_BUCKET(`time_to_medication_start`,`min_value`,`max_value`,10),10)) `time_to_medication_start_BIN`,FIRST(`min_value` + ((IF(ISNULL(`time_to_medication_start`),NULL,LEAST(WIDTH_BUCKET(`time_to_medication_start`,`min_value`,`max_value`,10),10)) - 1) * `step`)) `time_to_medication_start_BIN_LOWER_BOUND`,FIRST(`step`) `time_to_medication_start_BIN_STEP`,COUNT(`time_to_medication_start`) `COUNT` FROM histogram_meta GROUP BY `time_to_medication_start_BIN`\"\"\"))\n    else:\n        displayHTML(\"dataframe no longer exists. If you're using dataframe.display(), use display(dataframe) instead.\")\n\n\nfinally:\n    spark.sql(\"drop view if exists DatabricksView1f12c6f\")\n    display = __backend_agg_display_orig\n    del __backend_agg_display_new\n    del __backend_agg_display_orig\n    del __backend_agg_dfs\n    del __backend_agg_user_code_fn\n\n",
       "commandTitle": "Visualization 1",
       "commandType": "auto",
       "commandVersion": 0,
       "commentThread": [],
       "commentsVisible": false,
       "contentSha256Hex": null,
       "customPlotOptions": {
        "redashChart": [
         {
          "key": "type",
          "value": "CHART"
         },
         {
          "key": "options",
          "value": {
           "alignYAxesAtZero": true,
           "coefficient": 1,
           "columnConfigurationMap": {
            "x": {
             "column": "time_to_medication_start",
             "id": "column_bd9829d1174"
            }
           },
           "dateTimeFormat": "DD/MM/YYYY HH:mm",
           "direction": {
            "type": "counterclockwise"
           },
           "error_y": {
            "type": "data",
            "visible": true
           },
           "globalSeriesType": "histogram",
           "isAggregationOn": true,
           "legend": {
            "traceorder": "normal"
           },
           "missingValuesAsZero": true,
           "numBins": 10,
           "numberFormat": "0,0.[00000]",
           "percentFormat": "0[.]00%",
           "series": {
            "error_y": {
             "type": "data",
             "visible": true
            },
            "stacking": null
           },
           "seriesOptions": {
            "COUNT": {
             "color": "#00A972"
            }
           },
           "showDataLabels": false,
           "sizemode": "diameter",
           "sortX": true,
           "sortY": true,
           "swappedAxes": false,
           "textFormat": "",
           "useAggregationsUi": true,
           "valuesOptions": {},
           "version": 2,
           "xAxis": {
            "labels": {
             "enabled": true
            },
            "type": "-"
           },
           "yAxis": [
            {
             "type": "-"
            },
            {
             "opposite": true,
             "type": "-"
            }
           ]
          }
         }
        ]
       },
       "datasetPreviewNameToCmdIdMap": {},
       "diffDeletes": [],
       "diffInserts": [],
       "displayType": "redashChart",
       "error": null,
       "errorDetails": null,
       "errorSummary": null,
       "errorTraceType": null,
       "finishTime": 0,
       "globalVars": {},
       "guid": "",
       "height": "auto",
       "hideCommandCode": false,
       "hideCommandResult": false,
       "iPythonMetadata": null,
       "inputWidgets": {},
       "isLockedInExamMode": false,
       "latestAssumeRoleInfo": null,
       "latestUser": "a user",
       "latestUserId": null,
       "listResultMetadata": null,
       "metadata": {},
       "nuid": "4b031b3f-df94-44c7-8689-9e5a6fc97c04",
       "origId": 0,
       "parentHierarchy": [],
       "pivotAggregation": null,
       "pivotColumns": null,
       "position": 6.0,
       "resultDbfsErrorMessage": null,
       "resultDbfsStatus": "INLINED_IN_TREE",
       "results": null,
       "showCommandTitle": false,
       "startTime": 0,
       "state": "input",
       "streamStates": {},
       "subcommandOptions": {
        "queryPlan": {
         "groups": [
          {
           "column": "time_to_medication_start_BIN",
           "type": "column"
          }
         ],
         "selects": [
          {
           "alias": "time_to_medication_start_BIN",
           "args": [
            {
             "column": "time_to_medication_start",
             "type": "column"
            },
            {
             "number": 10,
             "type": "number"
            }
           ],
           "function": "BIN",
           "type": "function"
          },
          {
           "alias": "time_to_medication_start_BIN_LOWER_BOUND",
           "args": [
            {
             "column": "time_to_medication_start",
             "type": "column"
            },
            {
             "number": 10,
             "type": "number"
            }
           ],
           "function": "BIN_LOWER_BOUND",
           "type": "function"
          },
          {
           "alias": "time_to_medication_start_BIN_STEP",
           "args": [
            {
             "column": "time_to_medication_start",
             "type": "column"
            },
            {
             "number": 10,
             "type": "number"
            }
           ],
           "function": "BIN_STEP",
           "type": "function"
          },
          {
           "alias": "COUNT",
           "args": [
            {
             "column": "time_to_medication_start",
             "type": "column"
            }
           ],
           "function": "COUNT",
           "type": "function"
          }
         ]
        }
       },
       "submitTime": 0,
       "subtype": "tableResultSubCmd.visualization",
       "tableResultIndex": 0,
       "tableResultSettingsMap": {},
       "useConsistentColors": false,
       "version": "CommandV1",
       "width": "auto",
       "workflows": null,
       "xColumns": null,
       "yColumns": null
      }
     },
     "output_type": "display_data"
    },
    {
     "output_type": "display_data",
     "data": {
      "text/plain": [
       "Databricks visualization. Run in Databricks to view."
      ]
     },
     "metadata": {
      "application/vnd.databricks.v1.subcommand+json": {
       "baseErrorDetails": null,
       "bindings": {},
       "collapsed": false,
       "command": "%python\n__backend_agg_display_orig = display\n__backend_agg_dfs = []\ndef __backend_agg_display_new(df):\n    __backend_agg_df_modules = [\"pandas.core.frame\", \"databricks.koalas.frame\", \"pyspark.sql.dataframe\", \"pyspark.pandas.frame\", \"pyspark.sql.connect.dataframe\"]\n    if (type(df).__module__ in __backend_agg_df_modules and type(df).__name__ == 'DataFrame') or isinstance(df, list):\n        __backend_agg_dfs.append(df)\n\ndisplay = __backend_agg_display_new\n\ndef __backend_agg_user_code_fn():\n    import base64\n    exec(base64.standard_b64decode(\"ZnJvbSBweXNwYXJrLnNxbC5mdW5jdGlvbnMgaW1wb3J0IGNvbCwgbWluLCBjb3VudCwgZGF0ZWRpZmYKCmpvdXJuZXlfZmVhdHVyZXMgPSAoCiAgICBqb3VybmV5Lmdyb3VwQnkoInBhdGllbnRfaWQiKQogICAgLmFnZygKICAgICAgICBtaW4oImNvbmRpdGlvbl9zdGFydCIpLmFsaWFzKCJmaXJzdF9kaWFnbm9zaXNfZGF0ZSIpLAogICAgICAgIG1pbigibWVkaWNhdGlvbl9zdGFydCIpLmFsaWFzKCJmaXJzdF9tZWRpY2F0aW9uX2RhdGUiKSwKICAgICAgICBjb3VudCgiZW5jb3VudGVyX2lkIikuYWxpYXMoInRvdGFsX2VuY291bnRlcnMiKQogICAgKQogICAgLndpdGhDb2x1bW4oCiAgICAgICAgInRpbWVfdG9fbWVkaWNhdGlvbl9zdGFydCIsCiAgICAgICAgZGF0ZWRpZmYoY29sKCJmaXJzdF9tZWRpY2F0aW9uX2RhdGUiKSwgY29sKCJmaXJzdF9kaWFnbm9zaXNfZGF0ZSIpKQogICAgKQopCgpkaXNwbGF5KGpvdXJuZXlfZmVhdHVyZXMp\").decode())\n\ntry:\n    # run user code\n    __backend_agg_user_code_fn()\n\n    #reset display function\n    display = __backend_agg_display_orig\n\n    if len(__backend_agg_dfs) > 0:\n        # create a temp view\n        if type(__backend_agg_dfs[0]).__module__ == \"databricks.koalas.frame\":\n            # koalas dataframe\n            __backend_agg_dfs[0].to_spark().createOrReplaceTempView(\"DatabricksView4021d13\")\n        elif type(__backend_agg_dfs[0]).__module__ == \"pandas.core.frame\" or isinstance(__backend_agg_dfs[0], list):\n            # pandas dataframe\n            spark.createDataFrame(__backend_agg_dfs[0]).createOrReplaceTempView(\"DatabricksView4021d13\")\n        else:\n            __backend_agg_dfs[0].createOrReplaceTempView(\"DatabricksView4021d13\")\n        #run backend agg\n        display(spark.sql(\"\"\"WITH q AS (select * from DatabricksView4021d13) SELECT DATE_TRUNC('YEAR',`first_diagnosis_date`) `column_bd9829d1183`,SUM(`total_encounters`) `column_bd9829d1177` FROM q GROUP BY `column_bd9829d1183`\"\"\"))\n    else:\n        displayHTML(\"dataframe no longer exists. If you're using dataframe.display(), use display(dataframe) instead.\")\n\n\nfinally:\n    spark.sql(\"drop view if exists DatabricksView4021d13\")\n    display = __backend_agg_display_orig\n    del __backend_agg_display_new\n    del __backend_agg_display_orig\n    del __backend_agg_dfs\n    del __backend_agg_user_code_fn\n\n",
       "commandTitle": "Visualization 2",
       "commandType": "auto",
       "commandVersion": 0,
       "commentThread": [],
       "commentsVisible": false,
       "contentSha256Hex": null,
       "customPlotOptions": {
        "redashChart": [
         {
          "key": "type",
          "value": "CHART"
         },
         {
          "key": "options",
          "value": {
           "alignYAxesAtZero": true,
           "coefficient": 1,
           "columnConfigurationMap": {
            "x": {
             "column": "first_diagnosis_date",
             "id": "column_bd9829d1183",
             "transform": "YEAR_LEVEL"
            },
            "y": [
             {
              "column": "total_encounters",
              "id": "column_bd9829d1177",
              "transform": "SUM"
             }
            ]
           },
           "dateTimeFormat": "DD/MM/YYYY HH:mm",
           "direction": {
            "type": "counterclockwise"
           },
           "error_y": {
            "type": "data",
            "visible": true
           },
           "globalSeriesType": "line",
           "isAggregationOn": true,
           "legend": {
            "traceorder": "normal"
           },
           "missingValuesAsZero": true,
           "numberFormat": "0,0.[00000]",
           "percentFormat": "0[.]00%",
           "series": {
            "error_y": {
             "type": "data",
             "visible": true
            },
            "stacking": null
           },
           "seriesOptions": {
            "column_bd9829d1177": {
             "type": "line",
             "yAxis": 0
            }
           },
           "showDataLabels": false,
           "sizemode": "diameter",
           "sortX": true,
           "sortY": true,
           "swappedAxes": false,
           "textFormat": "",
           "useAggregationsUi": true,
           "valuesOptions": {},
           "version": 2,
           "xAxis": {
            "labels": {
             "enabled": true
            },
            "type": "-"
           },
           "yAxis": [
            {
             "type": "-"
            },
            {
             "opposite": true,
             "type": "-"
            }
           ]
          }
         }
        ]
       },
       "datasetPreviewNameToCmdIdMap": {},
       "diffDeletes": [],
       "diffInserts": [],
       "displayType": "redashChart",
       "error": null,
       "errorDetails": null,
       "errorSummary": null,
       "errorTraceType": null,
       "finishTime": 0,
       "globalVars": {},
       "guid": "",
       "height": "auto",
       "hideCommandCode": false,
       "hideCommandResult": false,
       "iPythonMetadata": null,
       "inputWidgets": {},
       "isLockedInExamMode": false,
       "latestAssumeRoleInfo": null,
       "latestUser": "a user",
       "latestUserId": null,
       "listResultMetadata": null,
       "metadata": {},
       "nuid": "5da1904b-a1cf-4ca7-8c90-23dcc08a5825",
       "origId": 0,
       "parentHierarchy": [],
       "pivotAggregation": null,
       "pivotColumns": null,
       "position": 7.0,
       "resultDbfsErrorMessage": null,
       "resultDbfsStatus": "INLINED_IN_TREE",
       "results": null,
       "showCommandTitle": false,
       "startTime": 0,
       "state": "input",
       "streamStates": {},
       "subcommandOptions": {
        "queryPlan": {
         "groups": [
          {
           "column": "column_bd9829d1183",
           "type": "column"
          }
         ],
         "selects": [
          {
           "alias": "column_bd9829d1183",
           "args": [
            {
             "column": "first_diagnosis_date",
             "type": "column"
            },
            {
             "string": "YEAR",
             "type": "string"
            }
           ],
           "function": "DATE_TRUNC",
           "type": "function"
          },
          {
           "alias": "column_bd9829d1177",
           "args": [
            {
             "column": "total_encounters",
             "type": "column"
            }
           ],
           "function": "SUM",
           "type": "function"
          }
         ]
        }
       },
       "submitTime": 0,
       "subtype": "tableResultSubCmd.visualization",
       "tableResultIndex": 0,
       "tableResultSettingsMap": {},
       "useConsistentColors": false,
       "version": "CommandV1",
       "width": "auto",
       "workflows": null,
       "xColumns": null,
       "yColumns": null
      }
     },
     "output_type": "display_data"
    }
   ],
   "source": [
    "from pyspark.sql.functions import col, min, count, datediff\n",
    "\n",
    "journey_features = (\n",
    "    journey.groupBy(\"patient_id\")\n",
    "    .agg(\n",
    "        min(\"condition_start\").alias(\"first_diagnosis_date\"),\n",
    "        min(\"medication_start\").alias(\"first_medication_date\"),\n",
    "        count(\"encounter_id\").alias(\"total_encounters\")\n",
    "    )\n",
    "    .withColumn(\n",
    "        \"time_to_medication_start\",\n",
    "        datediff(col(\"first_medication_date\"), col(\"first_diagnosis_date\"))\n",
    "    )\n",
    ")\n",
    "\n",
    "display(journey_features)"
   ]
  },
  {
   "cell_type": "code",
   "execution_count": 0,
   "metadata": {
    "application/vnd.databricks.v1+cell": {
     "cellMetadata": {},
     "inputWidgets": {},
     "nuid": "e452a4ff-9067-49fb-a369-375c100ceedc",
     "showTitle": false,
     "tableResultSettingsMap": {},
     "title": ""
    }
   },
   "outputs": [],
   "source": []
  }
 ],
 "metadata": {
  "application/vnd.databricks.v1+notebook": {
   "computePreferences": {
    "hardware": {
     "accelerator": null,
     "gpuPoolId": null,
     "memory": null
    }
   },
   "dashboards": [],
   "environmentMetadata": {
    "base_environment": "",
    "environment_version": "4"
   },
   "inputWidgetPreferences": null,
   "language": "python",
   "notebookMetadata": {
    "pythonIndentUnit": 4
   },
   "notebookName": "patient_journey_analytics",
   "widgets": {}
  },
  "language_info": {
   "name": "python"
  }
 },
 "nbformat": 4,
 "nbformat_minor": 0
}
