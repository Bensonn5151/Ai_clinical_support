{
 "cells": [
  {
   "cell_type": "code",
   "execution_count": 0,
   "metadata": {
    "application/vnd.databricks.v1+cell": {
     "cellMetadata": {
      "byteLimit": 2048000,
      "rowLimit": 10000
     },
     "inputWidgets": {},
     "nuid": "34d3a4df-52ee-48ce-95f2-fee08c9a9ff5",
     "showTitle": false,
     "tableResultSettingsMap": {},
     "title": ""
    }
   },
   "outputs": [],
   "source": [
    "conditions_df = spark.read.format(\"delta\").load(\n",
    "    '/Volumes/workspace/synthea/synthea_datasets/conditions_delta'\n",
    ")\n",
    "\n",
    "# Display sample\n",
    "display(conditions_df)"
   ]
  },
  {
   "cell_type": "code",
   "execution_count": 0,
   "metadata": {
    "application/vnd.databricks.v1+cell": {
     "cellMetadata": {
      "byteLimit": 2048000,
      "rowLimit": 10000
     },
     "inputWidgets": {},
     "nuid": "1f59d772-8994-4d6b-94e8-63db9bf095af",
     "showTitle": false,
     "tableResultSettingsMap": {},
     "title": ""
    }
   },
   "outputs": [],
   "source": [
    "patients_df = spark.read.format(\"delta\").load(\n",
    "    '/Volumes/workspace/synthea/synthea_datasets/patients_delta'\n",
    ")\n",
    "\n",
    "# Display sample\n",
    "display(patients_df)"
   ]
  },
  {
   "cell_type": "code",
   "execution_count": 0,
   "metadata": {
    "application/vnd.databricks.v1+cell": {
     "cellMetadata": {
      "byteLimit": 2048000,
      "rowLimit": 10000
     },
     "inputWidgets": {},
     "nuid": "79f717ad-f832-48e7-8bf3-c3fd9ad1fc56",
     "showTitle": false,
     "tableResultSettingsMap": {},
     "title": ""
    }
   },
   "outputs": [],
   "source": [
    "joined_df=patients_df.join(conditions_df, patients_df.Id==conditions_df.PATIENT,'left')\n",
    "display(joined_df)"
   ]
  },
  {
   "cell_type": "code",
   "execution_count": 0,
   "metadata": {
    "application/vnd.databricks.v1+cell": {
     "cellMetadata": {
      "byteLimit": 2048000,
      "rowLimit": 10000
     },
     "inputWidgets": {},
     "nuid": "4d1f3894-c927-4cae-8a92-9b892dfbc7d9",
     "showTitle": false,
     "tableResultSettingsMap": {},
     "title": ""
    }
   },
   "outputs": [],
   "source": [
    "encounters_df = spark.read.format(\"delta\").load(\n",
    "    '/Volumes/workspace/synthea/synthea_datasets/encounters_delta'\n",
    ")\n",
    "\n",
    "# Display sample\n",
    "display(encounters_df)"
   ]
  },
  {
   "cell_type": "code",
   "execution_count": 0,
   "metadata": {
    "application/vnd.databricks.v1+cell": {
     "cellMetadata": {
      "byteLimit": 2048000,
      "rowLimit": 10000
     },
     "inputWidgets": {},
     "nuid": "6ee8e82b-d7f2-49c0-a3e9-2178d58e76d6",
     "showTitle": false,
     "tableResultSettingsMap": {},
     "title": ""
    }
   },
   "outputs": [],
   "source": [
    "critical_columns = {\n",
    "    \"patients\": [\"Id\", \"BIRTHDATE\", \"DEATHDATE\", \"GENDER\"],\n",
    "    \"encounters\": [\"Id\", \"PATIENT\", \"START\", \"STOP\", \"TOTAL_CLAIM_COST\"],\n",
    "    \"conditions\": [\"PATIENT\", \"CODE\", \"DESCRIPTION\", \"START\"],\n",
    "    \"medications\": [\"PATIENT\", \"START\", \"STOP\", \"TOTALCOST\"],\n",
    "    \"observations\": [\"PATIENT\", \"DATE\", \"VALUE\"]\n",
    "}"
   ]
  },
  {
   "cell_type": "code",
   "execution_count": 0,
   "metadata": {
    "application/vnd.databricks.v1+cell": {
     "cellMetadata": {
      "byteLimit": 2048000,
      "rowLimit": 10000
     },
     "inputWidgets": {},
     "nuid": "6b71986a-12e4-4df8-be48-f9eb62bcfa3c",
     "showTitle": false,
     "tableResultSettingsMap": {},
     "title": ""
    }
   },
   "outputs": [],
   "source": [
    "# Function to check missing values\n",
    "def check_missing_values(table_name, critical_columns):\n",
    "    df = spark.read.format(\"delta\").table(f\"delta.{table_name}\")\n",
    "    total_rows = df.count()"
   ]
  },
  {
   "cell_type": "code",
   "execution_count": 0,
   "metadata": {
    "application/vnd.databricks.v1+cell": {
     "cellMetadata": {
      "byteLimit": 2048000,
      "rowLimit": 10000
     },
     "inputWidgets": {},
     "nuid": "85a3760a-5968-485d-adb5-46224431b55f",
     "showTitle": false,
     "tableResultSettingsMap": {},
     "title": ""
    }
   },
   "outputs": [],
   "source": [
    "from pyspark.sql.functions import col, count, when, sum as sum_\n",
    "\n",
    "def check_missing_values(path, critical_columns):\n",
    "    df = spark.read.format(\"delta\").load(path)\n",
    "    total_rows = df.count()\n",
    "    \n",
    "    missing_counts = df.select([\n",
    "        sum_(when(col(c).isNull(), 1).otherwise(0)).alias(c) for c in critical_columns\n",
    "    ])\n",
    "    missing_percentages = missing_counts.select([\n",
    "        ((col(c) / total_rows) * 100).alias(f\"{c}_missing_pct\") for c in critical_columns\n",
    "    ])\n",
    "    \n",
    "    print(f\"Missing Values for {path}:\")\n",
    "    missing_percentages.show()\n",
    "    return missing_percentages\n",
    "\n",
    "# Example run\n",
    "check_missing_values(\n",
    "    \"/Volumes/workspace/synthea/synthea_datasets/patients_delta\",\n",
    "    [\"Id\", \"BIRTHDATE\", \"DEATHDATE\", \"GENDER\"]\n",
    ")\n"
   ]
  },
  {
   "cell_type": "code",
   "execution_count": 0,
   "metadata": {
    "application/vnd.databricks.v1+cell": {
     "cellMetadata": {
      "byteLimit": 2048000,
      "rowLimit": 10000
     },
     "inputWidgets": {},
     "nuid": "11134e88-c602-46ad-a2b5-4b2839e55506",
     "showTitle": false,
     "tableResultSettingsMap": {},
     "title": ""
    }
   },
   "outputs": [],
   "source": [
    "from pyspark.sql.functions import sum, when, col, count\n",
    "from pyspark.sql.types import StructType, StructField, StringType, DateType, DoubleType\n",
    "import matplotlib.pyplot as plt\n",
    "import seaborn as sns\n",
    "import pandas as pd\n",
    "\n",
    "# Define the base path\n",
    "base_path = \"/Volumes/workspace/synthea/synthea_datasets\"\n",
    "\n",
    "# Define all your delta table paths\n",
    "delta_tables = {\n",
    "    \"patients\": f\"{base_path}/patients_delta\",\n",
    "    \"encounters\": f\"{base_path}/encounters_delta\", \n",
    "    \"conditions\": f\"{base_path}/conditions_delta\",\n",
    "    \"medications\": f\"{base_path}/medications_delta\",\n",
    "    \"observations\": f\"{base_path}/observations_delta\",\n",
    "    \"procedures\": f\"{base_path}/procedures_delta\",\n",
    "    \"allergies\": f\"{base_path}/allergies_delta\",\n",
    "    \"careplans\": f\"{base_path}/careplans_delta\",\n",
    "    \"immunizations\": f\"{base_path}/immunizations_delta\",\n",
    "    \"organizations\": f\"{base_path}/organizations_delta\",\n",
    "    \"providers\": f\"{base_path}/providers_delta\"\n",
    "}\n",
    "\n",
    "# Fixed function to read delta tables\n",
    "def read_delta_table(table_name):\n",
    "    \"\"\"Read a delta table from the specified path\"\"\"\n",
    "    table_path = delta_tables.get(table_name)\n",
    "    if not table_path:\n",
    "        raise ValueError(f\"Table {table_name} not found in delta_tables mapping\")\n",
    "    \n",
    "    return spark.read.format(\"delta\").load(table_path)"
   ]
  },
  {
   "cell_type": "code",
   "execution_count": 0,
   "metadata": {
    "application/vnd.databricks.v1+cell": {
     "cellMetadata": {
      "byteLimit": 2048000,
      "rowLimit": 10000
     },
     "inputWidgets": {},
     "nuid": "5e849e76-9d3a-4778-9579-a60928603b13",
     "showTitle": false,
     "tableResultSettingsMap": {},
     "title": ""
    }
   },
   "outputs": [],
   "source": [
    "# Test reading one table\n",
    "patients_df = read_delta_table(\"patients\")\n",
    "print(f\"Patients table schema:\")\n",
    "patients_df.printSchema()\n",
    "print(f\"Patients count: {patients_df.count()}\")"
   ]
  },
  {
   "cell_type": "code",
   "execution_count": 0,
   "metadata": {
    "application/vnd.databricks.v1+cell": {
     "cellMetadata": {
      "byteLimit": 2048000,
      "rowLimit": 10000
     },
     "inputWidgets": {},
     "nuid": "51bc74b9-7cf8-4c79-90d7-7f8ccccb4b01",
     "showTitle": false,
     "tableResultSettingsMap": {},
     "title": ""
    }
   },
   "outputs": [],
   "source": [
    "def analyze_table_schema(table_name):\n",
    "    \"\"\"Comprehensive table analysis for data modeling\"\"\"\n",
    "    df = read_delta_table(table_name)\n",
    "    \n",
    "    print(f\"\\n{'='*60}\")\n",
    "    print(f\"TABLE ANALYSIS: {table_name.upper()}\")\n",
    "    print(f\"{'='*60}\")\n",
    "    \n",
    "    # Basic info\n",
    "    print(f\"Total rows: {df.count():,}\")\n",
    "    print(f\"Total columns: {len(df.columns)}\")\n",
    "    \n",
    "    # Schema info\n",
    "    print(\"\\nSchema:\")\n",
    "    for field in df.schema.fields:\n",
    "        null_count = df.filter(col(field.name).isNull()).count()\n",
    "        null_pct = (null_count / df.count()) * 100 if df.count() > 0 else 0\n",
    "        print(f\"  {field.name}: {field.dataType} (Null: {null_count:,} - {null_pct:.1f}%)\")\n",
    "    \n",
    "    # Sample data\n",
    "    #print(f\"\\nSample data (first 5 rows):\")\n",
    "    #df.limit(5).show(vertical=True, truncate=False)\n",
    "    \n",
    "    return df\n",
    "\n",
    "# Analyze all tables for data modeling\n",
    "table_dfs = {}\n",
    "for table_name in delta_tables.keys():\n",
    "    try:\n",
    "        table_dfs[table_name] = analyze_table_schema(table_name)\n",
    "        print(f\"\\n✓ Successfully analyzed {table_name}\")\n",
    "    except Exception as e:\n",
    "        print(f\"\\n✗ Failed to analyze {table_name}: {str(e)}\")"
   ]
  },
  {
   "cell_type": "code",
   "execution_count": 0,
   "metadata": {
    "application/vnd.databricks.v1+cell": {
     "cellMetadata": {},
     "inputWidgets": {},
     "nuid": "d23c78ea-d4e5-4d5d-810d-5b4c6ab7ec23",
     "showTitle": false,
     "tableResultSettingsMap": {},
     "title": ""
    }
   },
   "outputs": [],
   "source": []
  }
 ],
 "metadata": {
  "application/vnd.databricks.v1+notebook": {
   "computePreferences": {
    "hardware": {
     "accelerator": null,
     "gpuPoolId": null,
     "memory": null
    }
   },
   "dashboards": [],
   "environmentMetadata": {
    "base_environment": "",
    "environment_version": "2"
   },
   "inputWidgetPreferences": null,
   "language": "python",
   "notebookMetadata": {
    "pythonIndentUnit": 4
   },
   "notebookName": "null_checks",
   "widgets": {}
  },
  "language_info": {
   "name": "python"
  }
 },
 "nbformat": 4,
 "nbformat_minor": 0
}
