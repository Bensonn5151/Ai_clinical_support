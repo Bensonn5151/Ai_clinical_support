{
 "cells": [
  {
   "cell_type": "markdown",
   "metadata": {
    "application/vnd.databricks.v1+cell": {
     "cellMetadata": {},
     "inputWidgets": {},
     "nuid": "8c4f66b2-a9d7-4909-9c2b-c057eb6cc97e",
     "showTitle": false,
     "tableResultSettingsMap": {},
     "title": ""
    }
   },
   "source": [
    "# Project Requirements\n",
    "## 01- Data Ingestion\n",
    "### Objective:\n",
    "Ingest Synthea-generated Parquet data into the Bronze Delta layer on Databricks\n",
    "\n",
    "### Criteria:\n",
    "- Input source: dbfs:/mnt/raw/synthea/\n",
    "\n",
    "## 02- Data Normalization(Silver Layer)\n",
    "### Objective:\n",
    "Transform Bronze data into normalized, schema-enforced Silver tables.\n",
    "\n",
    "### Criteria:\n",
    "- Deduplicate by patient_id, encounter_id\n",
    "- Normalize gender values (M/F/Unknown)\n",
    "- Enforce data types (DateType for all timestamps)\n",
    "- Null handling: replace NULL → N/A for categorical, 0 for numeric\n",
    "- Schema validation before write\n",
    "- Output path: dbfs:/mnt/silver/table_name\n",
    "\n",
    "## 03- FR-03 — Data Aggregation (Gold Layer)\n",
    "\n",
    "### Objective:\n",
    "Create analytics-ready datasets and metrics.\n",
    "\n",
    "### Criteria:\n",
    "- Joins between Silver tables (patients, conditions, encounters, observations)\n",
    "- Metrics:\n",
    "  - encounters_per_disease\n",
    "  - avg_stay_duration\n",
    "  - readmission_rate\n",
    "  - disease_prevalence_by_age_group\n",
    "- Write to Delta with Z-order indexing on condition_code and encounter_date\n",
    "\n",
    "\n",
    "\n",
    "## 04— ML Feature Store\n",
    "\n",
    "### Objective:\n",
    "Create a curated dataset for ML modeling and register in MLflow.\n",
    "\n",
    "### Criteria:\n",
    "- Merge features from Gold tables → patient_feature_store\n",
    "- Include derived metrics (avg_BMI, condition_count, medication_count)\n",
    "- Version-controlled Delta table (/mnt/ml/features/v1)\n",
    "- Track training runs in MLflow\n",
    "- Model metrics: AUC ≥ 0.80 for baseline logistic regression\n",
    "\n",
    "\n",
    "## 05 — Dashboard Layer\n",
    "\n",
    "### Objective:\n",
    "Expose Gold tables to analytics layer for visualization.\n",
    "\n",
    "### Criteria:\n",
    "- Connect Databricks SQL endpoint to Power BI\n",
    "- Create base views:\n",
    "  - vw_patient_journey\n",
    "  - vw_disease_trends\n",
    "  - vw_quality_metrics\n",
    "\n",
    "\n",
    "Ingestion → Silver → Gold → ML → Dashboard refresh\n",
    "\n",
    "\n",
    "\n"
   ]
  }
 ],
 "metadata": {
  "application/vnd.databricks.v1+notebook": {
   "computePreferences": null,
   "dashboards": [],
   "environmentMetadata": {
    "base_environment": "",
    "environment_version": "4"
   },
   "inputWidgetPreferences": null,
   "language": "python",
   "notebookMetadata": {
    "pythonIndentUnit": 4
   },
   "notebookName": "project_requirements.md",
   "widgets": {}
  },
  "language_info": {
   "name": "python"
  }
 },
 "nbformat": 4,
 "nbformat_minor": 0
}
